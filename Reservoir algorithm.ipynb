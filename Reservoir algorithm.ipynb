{
 "cells": [
  {
   "cell_type": "code",
   "execution_count": 13,
   "id": "eedde98f",
   "metadata": {},
   "outputs": [
    {
     "data": {
      "text/plain": [
       "array([ 2,  2, 34])"
      ]
     },
     "execution_count": 13,
     "metadata": {},
     "output_type": "execute_result"
    }
   ],
   "source": [
    "import itertools as itl\n",
    "\n",
    "import numpy as np\n",
    "\n",
    "stream = 34, 2, 6, 2, 3, 2, 5, 3, 5\n",
    "\n",
    "def reservoir_alg(data, size):\n",
    "\n",
    "    r = np.array(list(itl.islice(data, size)))\n",
    "    \n",
    "    for t, x in enumerate(data, size + 1):\n",
    "        i = np.random.randint(1, t + 1)\n",
    "\n",
    "        if i <= size:\n",
    "            r[i - 1] = x\n",
    "    \n",
    "    return r\n",
    "\n",
    "result=reservoir_alg(stream, 3)\n",
    "result"
   ]
  },
  {
   "cell_type": "code",
   "execution_count": null,
   "id": "983aa157",
   "metadata": {},
   "outputs": [],
   "source": []
  }
 ],
 "metadata": {
  "kernelspec": {
   "display_name": "Python 3",
   "language": "python",
   "name": "python3"
  },
  "language_info": {
   "codemirror_mode": {
    "name": "ipython",
    "version": 3
   },
   "file_extension": ".py",
   "mimetype": "text/x-python",
   "name": "python",
   "nbconvert_exporter": "python",
   "pygments_lexer": "ipython3",
   "version": "3.8.8"
  }
 },
 "nbformat": 4,
 "nbformat_minor": 5
}
